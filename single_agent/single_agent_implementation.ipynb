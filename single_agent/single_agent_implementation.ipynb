{
 "cells": [
  {
   "cell_type": "code",
   "execution_count": 1,
   "metadata": {},
   "outputs": [],
   "source": [
    "#%pip install azure-monitor-opentelemetry-exporter --pre"
   ]
  },
  {
   "cell_type": "code",
   "execution_count": 2,
   "metadata": {},
   "outputs": [
    {
     "name": "stdout",
     "output_type": "stream",
     "text": [
      "c:\\source\\repos\\autogen_v0.4 demo\\single_agent\n"
     ]
    }
   ],
   "source": [
    "import sys\n",
    "import os\n",
    "\n",
    "# Get the current working directory (where the notebook is running)\n",
    "notebook_dir = os.getcwd()\n",
    "\n",
    "# Add the parent directory to the system path\n",
    "parent_dir = os.path.abspath(os.path.join(notebook_dir, '.'))\n",
    "sys.path.append(parent_dir)\n",
    "print(parent_dir)\n"
   ]
  },
  {
   "cell_type": "markdown",
   "metadata": {},
   "source": [
    "# A Simple Chatbot that can respond directly to user questions. "
   ]
  },
  {
   "cell_type": "code",
   "execution_count": 3,
   "metadata": {},
   "outputs": [
    {
     "name": "stdout",
     "output_type": "stream",
     "text": [
      "c:\\source\\repos\\autogen_v0.4 demo\n"
     ]
    }
   ],
   "source": [
    "from single_agent_implementation import *\n",
    "\n",
    "from common.tracing_helper import *\n",
    "\n",
    "tracer_provider = get_trace_provider()\n",
    "\n",
    "tracer = tracer_provider.get_tracer(__name__)"
   ]
  },
  {
   "cell_type": "code",
   "execution_count": 4,
   "metadata": {},
   "outputs": [
    {
     "name": "stdout",
     "output_type": "stream",
     "text": [
      "Payment reversals, also known as chargebacks, occur when a transaction is returned to the payer after it has been completed. This can happen for a number of reasons, including:\n",
      "\n",
      "1. **Fraudulent Transactions**: When a cardholder disputes a transaction as being unauthorized.\n",
      "2. **Customer Disputes**: When a customer is unhappy with the product or service received.\n",
      "3. **Processing Errors**: When there are mistakes in the transaction process, such as incorrect amounts or duplicate charges.\n",
      "4. **Authorization Issues**: When the merchant fails to obtain proper authorization for the transaction.\n",
      "\n",
      "To avoid payment reversals on Transify:\n",
      "\n",
      "1. **Verify Transactions**: Ensure all transactions are authorized by the cardholder.\n",
      "2. **Clear Communication**: Provide clear descriptions of products or services, including all terms and conditions.\n",
      "3. **Respond Promptly to Disputes**: Quickly address and resolve any customer complaints or disputes to prevent escalation.\n",
      "4. **Accurate Processing**: Double-check transactions for accuracy before processing them.\n",
      "5. **Keep Records**: Maintain detailed records of all transactions, including proof of delivery and customer communication.\n",
      "\n",
      "By following these practices, you can minimize the risk of payment reversals on Transify. If you need further assistance, feel free to ask!\n"
     ]
    },
    {
     "data": {
      "text/plain": [
       "True"
      ]
     },
     "execution_count": 4,
     "metadata": {},
     "output_type": "execute_result"
    }
   ],
   "source": [
    "# send transify specific message to agent\n",
    "\n",
    "# Tracing Target Azure AppInsights - llm-appsights\n",
    "\n",
    "with tracer.start_span(\"running single agent scenario\"):\n",
    "    \n",
    "    # initialize runtime\n",
    "    runtime = SingleThreadedAgentRuntime(tracer_provider=tracer_provider)\n",
    "    \n",
    "    # register agents with the runtime\n",
    "    await register_agents(runtime)\n",
    "\n",
    "    runtime.start()\n",
    "    \n",
    "    # send a message directly to the agent\n",
    "    agent_response = await runtime.send_message(transifyHelpAgentAMessage(body=UserMessage(content=\"What are payment reversals and how to avoid them\", source=\"user\")), recipient=AgentId(type=\"transifyHelpAgent\", key=\"transify_user1\")) \n",
    "    print(agent_response)\n",
    "\n",
    "\n",
    "\n",
    "tracer_provider.force_flush()\n"
   ]
  },
  {
   "cell_type": "code",
   "execution_count": 6,
   "metadata": {},
   "outputs": [
    {
     "name": "stdout",
     "output_type": "stream",
     "text": [
      "I can only assist with queries related to Transify. Unfortunately, I cannot help you plan a road trip to Zion National Park. If you have any questions or need assistance with Transify, feel free to ask!\n"
     ]
    }
   ],
   "source": [
    "\n",
    "# send out of context message to agent\n",
    "\n",
    "with tracer.start_span(\"running single agent scenario - out of domain message\"):\n",
    "    agent_response = await runtime.send_message(transifyHelpAgentAMessage(body=UserMessage(content=\"Plan a 3 day road trip to zion national park\", source=\"user\")), recipient=AgentId(type=\"transifyHelpAgent\", key=\"transify_user1\")) \n",
    "    print(agent_response)\n",
    "    #await runtime.stop_when_idle()\n",
    "\n",
    "\n",
    "\n"
   ]
  },
  {
   "cell_type": "code",
   "execution_count": 7,
   "metadata": {},
   "outputs": [
    {
     "name": "stdout",
     "output_type": "stream",
     "text": [
      "If you suspect fraudulent activity on your Transify account, it's important to take immediate action to protect your funds and personal information. Here’s how you can report fraud on Transify:\n",
      "\n",
      "1. **Log In to Your Transify Account**: Access your account through the Transify website or mobile app.\n",
      "  \n",
      "2. **Navigate to the Support Section**: This can typically be found in your account settings or by clicking on a 'Help' or 'Support' link.\n",
      "  \n",
      "3. **Report the Fraud**: Look for an option to report fraudulent activity. This may be labeled as \"Report Fraud,\" \"Dispute Transaction,\" or similar.\n",
      "\n",
      "4. **Provide Details**: Fill out the required form with information about the suspicious activity, including transaction IDs, dates, amounts, and any other relevant details.\n",
      "\n",
      "5. **Contact Customer Service**: If you prefer to speak directly with a representative, you can find contact information for Transify's customer support team on the website. They may provide a dedicated fraud hotline or email address for reporting issues.\n",
      "\n",
      "6. **Follow Up**: Keep an eye on your email for updates from Transify regarding your report. You may need to provide additional information or documentation depending on the case.\n",
      "\n",
      "Additionally, it's a good idea to monitor your account transactions regularly and change your password to something more secure to prevent further unauthorized activity.\n",
      "\n",
      "If you have any other questions or need further assistance with Transify, feel free to ask!\n"
     ]
    }
   ],
   "source": [
    "with tracer.start_span(\"running single agent scenario - in domain message\"):\n",
    "    agent_response = await runtime.send_message(transifyHelpAgentAMessage(body=UserMessage(content=\"how to report Fraud\", source=\"user\")), recipient=AgentId(type=\"transifyHelpAgent\", key=\"transify_user1\")) \n",
    "    print(agent_response)\n",
    "    #await runtime.stop_when_idle()"
   ]
  }
 ],
 "metadata": {
  "kernelspec": {
   "display_name": "autogenv0.4",
   "language": "python",
   "name": "python3"
  },
  "language_info": {
   "codemirror_mode": {
    "name": "ipython",
    "version": 3
   },
   "file_extension": ".py",
   "mimetype": "text/x-python",
   "name": "python",
   "nbconvert_exporter": "python",
   "pygments_lexer": "ipython3",
   "version": "3.11.10"
  }
 },
 "nbformat": 4,
 "nbformat_minor": 2
}
