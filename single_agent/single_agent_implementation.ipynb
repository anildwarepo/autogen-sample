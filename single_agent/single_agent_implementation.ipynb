{
 "cells": [
  {
   "cell_type": "code",
   "execution_count": 1,
   "metadata": {},
   "outputs": [],
   "source": [
    "#%pip install azure-monitor-opentelemetry-exporter --pre"
   ]
  },
  {
   "cell_type": "code",
   "execution_count": 1,
   "metadata": {},
   "outputs": [
    {
     "name": "stdout",
     "output_type": "stream",
     "text": [
      "c:\\source\\repos\\autogen_v0.4 demo\\single_agent\n"
     ]
    }
   ],
   "source": [
    "import sys\n",
    "import os\n",
    "\n",
    "# Get the current working directory (where the notebook is running)\n",
    "notebook_dir = os.getcwd()\n",
    "\n",
    "# Add the parent directory to the system path\n",
    "parent_dir = os.path.abspath(os.path.join(notebook_dir, '.'))\n",
    "sys.path.append(parent_dir)\n",
    "print(parent_dir)\n"
   ]
  },
  {
   "cell_type": "code",
   "execution_count": 3,
   "metadata": {},
   "outputs": [],
   "source": [
    "from single_agent_implementation import *\n",
    "\n",
    "from common.tracing_helper import *\n",
    "\n",
    "tracer_provider = get_trace_provider()\n",
    "\n",
    "tracer = tracer_provider.get_tracer(__name__)"
   ]
  },
  {
   "cell_type": "code",
   "execution_count": 4,
   "metadata": {},
   "outputs": [
    {
     "name": "stdout",
     "output_type": "stream",
     "text": [
      "Payment reversals, also known as chargebacks, occur when a payment is returned to the buyer after it has been processed. These can happen for several reasons including:\n",
      "\n",
      "1. **Fraudulent Transactions**: The cardholder disputes the transaction because it was unauthorized or fraudulent.\n",
      "2. **Product Not Received**: The buyer claims they did not receive the item or service.\n",
      "3. **Product Not as Described**: The buyer claims the item received was significantly different from what was described.\n",
      "4. **Technical Issues**: There may be errors in processing the payment that result in a reversal.\n",
      "\n",
      "### How to Avoid Payment Reversals:\n",
      "\n",
      "1. **Accurate Descriptions**: Ensure product descriptions are accurate and detailed to match the product or service provided.\n",
      "2. **Provide Tracking Information**: Use shipping services that provide tracking and delivery confirmation.\n",
      "3. **Clear Communication**: Maintain clear and ongoing communication with your buyers. Respond promptly to any inquiries and resolve disputes quickly.\n",
      "4. **Maintain Records**: Keep detailed records of transactions, including emails, shipment tracking, and any communications with the buyer.\n",
      "5. **Verify Payments**: Use PayPal's tools to verify the buyer’s information and ensure that the payment is legitimate.\n",
      "6. **High-Quality Service**: Deliver high-quality products and services, and ensure that customers are satisfied with their purchase.\n",
      "7. **Understand PayPal Policies**: Familiarize yourself with PayPal’s policies on seller protection to ensure you’re covered in the event of a dispute.\n",
      "\n",
      "By taking these steps, you can help reduce the likelihood of payment reversals and protect your business against potential losses.\n"
     ]
    },
    {
     "name": "stderr",
     "output_type": "stream",
     "text": [
      "c:\\source\\repos\\autogen_v0.4 demo\\single_agent\\single_agent_implementation.py:34: UserWarning: Resolved model mismatch: gpt-4o-global != gpt-4o-2024-05-13. Model mapping may be incorrect.\n",
      "  completion = await self._model_client.create(self._chat_history)\n"
     ]
    },
    {
     "data": {
      "text/plain": [
       "True"
      ]
     },
     "execution_count": 4,
     "metadata": {},
     "output_type": "execute_result"
    }
   ],
   "source": [
    "# send paypal specific message to agent\n",
    "\n",
    "# Tracing Target Azure AppInsights - llm-appsights\n",
    "\n",
    "with tracer.start_span(\"running single agent scenario\"):\n",
    "    \n",
    "    # initialize runtime\n",
    "    runtime = SingleThreadedAgentRuntime(tracer_provider=tracer_provider)\n",
    "    \n",
    "    # register agents with the runtime\n",
    "    await register_agents(runtime)\n",
    "\n",
    "    runtime.start()\n",
    "    \n",
    "    # send a message directly to the agent\n",
    "    agent_response = await runtime.send_message(PaypalHelpAgentAMessage(body=UserMessage(content=\"What are payment reversals and how to avoid them\", source=\"user\")), recipient=AgentId(type=\"PaypalHelpAgent\", key=\"paypal_user1\")) \n",
    "    print(agent_response)\n",
    "\n",
    "\n",
    "\n",
    "tracer_provider.force_flush()\n"
   ]
  },
  {
   "cell_type": "code",
   "execution_count": 5,
   "metadata": {},
   "outputs": [
    {
     "name": "stdout",
     "output_type": "stream",
     "text": [
      "I only respond to Paypal-related queries and cannot answer this question. If you have any questions or need assistance regarding Paypal, feel free to ask!\n"
     ]
    }
   ],
   "source": [
    "\n",
    "# send out of context message to agent\n",
    "\n",
    "with tracer.start_span(\"running single agent scenario - out of domain message\"):\n",
    "    agent_response = await runtime.send_message(PaypalHelpAgentAMessage(body=UserMessage(content=\"Plan a 3 day road trip to zion national park\", source=\"user\")), recipient=AgentId(type=\"PaypalHelpAgent\", key=\"paypal_user1\")) \n",
    "    print(agent_response)\n",
    "    #await runtime.stop_when_idle()\n",
    "\n",
    "\n",
    "\n"
   ]
  },
  {
   "cell_type": "code",
   "execution_count": 6,
   "metadata": {},
   "outputs": [
    {
     "name": "stdout",
     "output_type": "stream",
     "text": [
      "Reporting fraud on PayPal is crucial for maintaining the security of your account. Here’s how you can report fraudulent activity:\n",
      "\n",
      "### Steps to Report Fraud:\n",
      "\n",
      "1. **Login to PayPal Account**:\n",
      "   - Go to the PayPal website or open the PayPal app.\n",
      "   - Login with your username and password.\n",
      "\n",
      "2. **Access the Resolution Center**:\n",
      "   - On the website, navigate to the \"Resolution Center\".\n",
      "   - In the app, tap on the menu (three lines) and then on \"Resolution Center\" or \"Help\".\n",
      "\n",
      "3. **Report the Problem**:\n",
      "   - Click or tap on “Report a Problem”.\n",
      "   - Find the transaction in question and select it.\n",
      "   - Choose the reason for your report (e.g., Unauthorized Transaction, Fraud, etc.).\n",
      "\n",
      "4. **Provide Details**:\n",
      "   - Carefully follow the prompts to provide detailed information about the fraudulent activity.\n",
      "   - The more specific you are, the better PayPal will be able to assist you.\n",
      "\n",
      "5. **Submit**:\n",
      "   - Submit your complaint. PayPal will review your case and keep you updated via email or within the Resolution Center.\n",
      "\n",
      "### Additional Steps for Security:\n",
      "\n",
      "- **Change Password**: Change your PayPal password immediately if you suspect unauthorized access.\n",
      "- **Review Account Activity**: Regularly monitor your account activity for any suspicious transactions.\n",
      "- **Enable Two-Factor Authentication**: Add an extra layer of security to your account by enabling two-factor authentication.\n",
      "- **Contact Customer Support**: If needed, you can also contact PayPal customer support for further assistance. You can reach them via phone, email, or live chat through the PayPal website.\n",
      "\n",
      "By following these steps, you can help secure your account and prevent further fraudulent activity.\n"
     ]
    }
   ],
   "source": [
    "with tracer.start_span(\"running single agent scenario - in domain message\"):\n",
    "    agent_response = await runtime.send_message(PaypalHelpAgentAMessage(body=UserMessage(content=\"how to report Fraud\", source=\"user\")), recipient=AgentId(type=\"PaypalHelpAgent\", key=\"paypal_user1\")) \n",
    "    print(agent_response)\n",
    "    #await runtime.stop_when_idle()"
   ]
  }
 ],
 "metadata": {
  "kernelspec": {
   "display_name": "autogenv0.4",
   "language": "python",
   "name": "python3"
  },
  "language_info": {
   "codemirror_mode": {
    "name": "ipython",
    "version": 3
   },
   "file_extension": ".py",
   "mimetype": "text/x-python",
   "name": "python",
   "nbconvert_exporter": "python",
   "pygments_lexer": "ipython3",
   "version": "3.11.10"
  }
 },
 "nbformat": 4,
 "nbformat_minor": 2
}
