{
 "cells": [
  {
   "cell_type": "code",
   "execution_count": 1,
   "metadata": {},
   "outputs": [
    {
     "name": "stdout",
     "output_type": "stream",
     "text": [
      "c:\\source\\repos\\autogen_v0.4 demo\\multi_agent\n"
     ]
    }
   ],
   "source": [
    "import sys\n",
    "import os\n",
    "\n",
    "# Get the current working directory (where the notebook is running)\n",
    "notebook_dir = os.getcwd()\n",
    "\n",
    "# Add the parent directory to the system path\n",
    "parent_dir = os.path.abspath(os.path.join(notebook_dir, '.'))\n",
    "sys.path.append(parent_dir)\n",
    "print(parent_dir)"
   ]
  },
  {
   "cell_type": "code",
   "execution_count": 2,
   "metadata": {},
   "outputs": [
    {
     "name": "stdout",
     "output_type": "stream",
     "text": [
      "c:\\source\\repos\\autogen_v0.4 demo\n"
     ]
    }
   ],
   "source": [
    "from multi_agent_implementation import *\n",
    "runtime = SingleThreadedAgentRuntime()\n",
    "await register_agents(runtime)\n",
    "runtime.start()"
   ]
  },
  {
   "cell_type": "code",
   "execution_count": 3,
   "metadata": {},
   "outputs": [],
   "source": [
    "\n",
    "async def get_answer(conversation_id, user_query):\n",
    "    await runtime.publish_message(GroupChatMessage(body=UserMessage(content=user_query, source=\"user\"), \n",
    "                                                conversation_id=conversation_id), DefaultTopicId(type=\"group_chat_any_topic\", source=conversation_id)) \n",
    "\n",
    "\n",
    "    group_chat_result = \"\"\n",
    "    try:\n",
    "        # Wait for a message in the queue, or you can use a timeout if needed\n",
    "        #group_chat_result = (await queue.get()).body.content\n",
    "        # clear queue \n",
    "        async with condition:\n",
    "            while conversation_id not in llm_results_dict:\n",
    "                await condition.wait()\n",
    "\n",
    "            \n",
    "            group_chat_result = llm_results_dict[conversation_id].body.content\n",
    "            del llm_results_dict[conversation_id]\n",
    "            print(f\"conversation_id: {conversation_id}\")\n",
    "            print(\"\\033[35m\" + \"-\" * 20 + \"\\033[0m\")\n",
    "    except Exception as e:\n",
    "        # Handle any exception that may occur during the wait for the response\n",
    "        print(f\"Error retrieving message from queue: {e}\")\n",
    "        group_chat_result = \"An error occurred while waiting for the response.\"\n",
    "\n",
    "    print(group_chat_result)"
   ]
  },
  {
   "cell_type": "code",
   "execution_count": 4,
   "metadata": {},
   "outputs": [
    {
     "name": "stdout",
     "output_type": "stream",
     "text": [
      "body=UserMessage(content='I want to know my credit card balance.', source='user') conversation_id='1a9d03fb-f400-41c8-b8ea-484ff40f8d5b'\n",
      "from A group_chat agent completion: {\"agentType\": \"NeedMoreInfo\", \"body\": \"Please note that PayPal does not have direct access to your credit card balance. You should check your credit card statement or contact your credit card provider for this information. If you have any other questions related to your PayPal account, please let me know.\"}\n",
      "\u001b[32m--------------------\u001b[0m\n",
      "Received by A Final Responder Agent:[UserMessage(content='I want to know my credit card balance.', source='user'), UserMessage(content='{\"agentType\": \"NeedMoreInfo\", \"body\": \"Please note that PayPal does not have direct access to your credit card balance. You should check your credit card statement or contact your credit card provider for this information. If you have any other questions related to your PayPal account, please let me know.\"}', source='GroupChatManager')]\n",
      "body=UserMessage(content='My account number is A1234567890.', source='user') conversation_id='1a9d03fb-f400-41c8-b8ea-484ff40f8d5b'\n",
      "from A group_chat agent completion: {\"agentType\": \"AccountInfo\", \"body\": \"Thank you for providing your account number. How can I assist you with your PayPal account? Please provide more details about your query.\"}\n",
      "\u001b[32m--------------------\u001b[0m\n",
      "Received by A Account Info Agent Agent:[SystemMessage(content=\"\\n        You are Paypal Support Agent. You can provide information about the account details. \\n        You need to know the 'account number' to provide the account details.\\n        If the 'account number' is provided use the get_account_info tool to get the account details.\\n        Format the response with 'Account Details:'.\\n        If the 'account number' is not provided, ask the user to provide the 'account number'.                                                      \\n\\n        \"), UserMessage(content='I want to know my credit card balance.', source='user'), UserMessage(content='{\"agentType\": \"NeedMoreInfo\", \"body\": \"Please note that PayPal does not have direct access to your credit card balance. You should check your credit card statement or contact your credit card provider for this information. If you have any other questions related to your PayPal account, please let me know.\"}', source='GroupChatManager'), UserMessage(content='My account number is A1234567890.', source='user'), UserMessage(content='{\"agentType\": \"AccountInfo\", \"body\": \"Thank you for providing your account number. How can I assist you with your PayPal account? Please provide more details about your query.\"}', source='GroupChatManager')]\n",
      "from A group_chat agent completion: {\"agentType\": \"IntermediateResult\", \"body\": \"Your PayPal account information has been retrieved successfully. Here are the details:\\n\\n- **Account ID:** A1234567890\\n- **Email:** example@domain.com\\n- **Account Status:** Verified\\n- **Account Type:** Personal\\n- **Currency:** USD\\n- **Balance:** 150.00 USD\\n- **Owner:** John Doe\\n  - **Address:** 123 Main St, Anytown, CA, 12345, US\\n  - **Phone:** +1234567890\\n- **Account Created At:** 2023-01-15T08:55:30Z\\n- **Last Updated At:** 2024-10-09T10:20:15Z\"}\n",
      "\u001b[32m--------------------\u001b[0m\n",
      "Received by A Final Responder Agent:[UserMessage(content='I want to know my credit card balance.', source='user'), UserMessage(content='{\"agentType\": \"NeedMoreInfo\", \"body\": \"Please note that PayPal does not have direct access to your credit card balance. You should check your credit card statement or contact your credit card provider for this information. If you have any other questions related to your PayPal account, please let me know.\"}', source='GroupChatManager'), UserMessage(content='My account number is A1234567890.', source='user'), UserMessage(content='{\"agentType\": \"AccountInfo\", \"body\": \"Thank you for providing your account number. How can I assist you with your PayPal account? Please provide more details about your query.\"}', source='GroupChatManager'), AssistantMessage(content='<Context>\\n Tool name is: get_account_info, \\n                                tool input is: {\"account_id\":\"A1234567890\"} \\n                                and tool result is: {\\n  \"account_id\": \"A1234567890\",\\n  \"email\": \"example@domain.com\",\\n  \"account_status\": \"verified\",\\n  \"account_type\": \"personal\",\\n  \"currency\": \"USD\",\\n  \"balance\": {\\n    \"currency_code\": \"USD\",\\n    \"value\": \"150.00\"\\n  },\\n  \"owner\": {\\n    \"first_name\": \"John\",\\n    \"last_name\": \"Doe\",\\n    \"address\": {\\n      \"line1\": \"123 Main St\",\\n      \"city\": \"Anytown\",\\n      \"state\": \"CA\",\\n      \"postal_code\": \"12345\",\\n      \"country_code\": \"US\"\\n    },\\n    \"phone\": \"+1234567890\"\\n  },\\n  \"created_at\": \"2023-01-15T08:55:30Z\",\\n  \"updated_at\": \"2024-10-09T10:20:15Z\",\\n  \"links\": [\\n    {\\n      \"href\": \"https://api.paypal.com/v1/accounts/A1234567890\",\\n      \"rel\": \"self\",\\n      \"method\": \"GET\"\\n    },\\n    {\\n      \"href\": \"https://api.paypal.com/v1/accounts/A1234567890/balance\",\\n      \"rel\": \"balance\",\\n      \"method\": \"GET\"\\n    }\\n  ]\\n}\\n\\n</Context>', source='tool_use_agent'), UserMessage(content='{\"agentType\": \"IntermediateResult\", \"body\": \"Your PayPal account information has been retrieved successfully. Here are the details:\\\\n\\\\n- **Account ID:** A1234567890\\\\n- **Email:** example@domain.com\\\\n- **Account Status:** Verified\\\\n- **Account Type:** Personal\\\\n- **Currency:** USD\\\\n- **Balance:** 150.00 USD\\\\n- **Owner:** John Doe\\\\n  - **Address:** 123 Main St, Anytown, CA, 12345, US\\\\n  - **Phone:** +1234567890\\\\n- **Account Created At:** 2023-01-15T08:55:30Z\\\\n- **Last Updated At:** 2024-10-09T10:20:15Z\"}', source='GroupChatManager')]\n",
      "body=UserMessage(content='what is my over draft limit?', source='user') conversation_id='1a9d03fb-f400-41c8-b8ea-484ff40f8d5b'\n",
      "from A group_chat agent completion: {\"agentType\": \"NeedMoreInfo\", \"body\": \"PayPal accounts typically do not have an overdraft limit as PayPal operates on a 'pay as you go' basis. Overdrafts are generally linked to traditional bank accounts. If you have more specific questions about your PayPal account functionalities or limits, please let us know.\"}\n",
      "\u001b[32m--------------------\u001b[0m\n",
      "Received by A Final Responder Agent:[UserMessage(content='I want to know my credit card balance.', source='user'), UserMessage(content='{\"agentType\": \"NeedMoreInfo\", \"body\": \"Please note that PayPal does not have direct access to your credit card balance. You should check your credit card statement or contact your credit card provider for this information. If you have any other questions related to your PayPal account, please let me know.\"}', source='GroupChatManager'), UserMessage(content='My account number is A1234567890.', source='user'), UserMessage(content='{\"agentType\": \"AccountInfo\", \"body\": \"Thank you for providing your account number. How can I assist you with your PayPal account? Please provide more details about your query.\"}', source='GroupChatManager'), AssistantMessage(content='<Context>\\n Tool name is: get_account_info, \\n                                tool input is: {\"account_id\":\"A1234567890\"} \\n                                and tool result is: {\\n  \"account_id\": \"A1234567890\",\\n  \"email\": \"example@domain.com\",\\n  \"account_status\": \"verified\",\\n  \"account_type\": \"personal\",\\n  \"currency\": \"USD\",\\n  \"balance\": {\\n    \"currency_code\": \"USD\",\\n    \"value\": \"150.00\"\\n  },\\n  \"owner\": {\\n    \"first_name\": \"John\",\\n    \"last_name\": \"Doe\",\\n    \"address\": {\\n      \"line1\": \"123 Main St\",\\n      \"city\": \"Anytown\",\\n      \"state\": \"CA\",\\n      \"postal_code\": \"12345\",\\n      \"country_code\": \"US\"\\n    },\\n    \"phone\": \"+1234567890\"\\n  },\\n  \"created_at\": \"2023-01-15T08:55:30Z\",\\n  \"updated_at\": \"2024-10-09T10:20:15Z\",\\n  \"links\": [\\n    {\\n      \"href\": \"https://api.paypal.com/v1/accounts/A1234567890\",\\n      \"rel\": \"self\",\\n      \"method\": \"GET\"\\n    },\\n    {\\n      \"href\": \"https://api.paypal.com/v1/accounts/A1234567890/balance\",\\n      \"rel\": \"balance\",\\n      \"method\": \"GET\"\\n    }\\n  ]\\n}\\n\\n</Context>', source='tool_use_agent'), UserMessage(content='{\"agentType\": \"IntermediateResult\", \"body\": \"Your PayPal account information has been retrieved successfully. Here are the details:\\\\n\\\\n- **Account ID:** A1234567890\\\\n- **Email:** example@domain.com\\\\n- **Account Status:** Verified\\\\n- **Account Type:** Personal\\\\n- **Currency:** USD\\\\n- **Balance:** 150.00 USD\\\\n- **Owner:** John Doe\\\\n  - **Address:** 123 Main St, Anytown, CA, 12345, US\\\\n  - **Phone:** +1234567890\\\\n- **Account Created At:** 2023-01-15T08:55:30Z\\\\n- **Last Updated At:** 2024-10-09T10:20:15Z\"}', source='GroupChatManager'), UserMessage(content='what is my over draft limit?', source='user'), UserMessage(content='{\"agentType\": \"NeedMoreInfo\", \"body\": \"PayPal accounts typically do not have an overdraft limit as PayPal operates on a \\'pay as you go\\' basis. Overdrafts are generally linked to traditional bank accounts. If you have more specific questions about your PayPal account functionalities or limits, please let us know.\"}', source='GroupChatManager')]\n",
      "body=UserMessage(content='what is the maximum amount I can transact on my account number?', source='user') conversation_id='1a9d03fb-f400-41c8-b8ea-484ff40f8d5b'\n",
      "from A group_chat agent completion: {\"agentType\": \"NeedMoreInfo\", \"body\": \"The maximum transaction amount can vary based on several factors, including your account verification status, account type, and the type of transaction you are performing. Could you please specify the type of transaction you are referring to (e.g., sending money, receiving money, purchasing goods)? This will help us provide a more accurate answer.\"}\n",
      "\u001b[32m--------------------\u001b[0m\n",
      "Received by A Final Responder Agent:[UserMessage(content='I want to know my credit card balance.', source='user'), UserMessage(content='{\"agentType\": \"NeedMoreInfo\", \"body\": \"Please note that PayPal does not have direct access to your credit card balance. You should check your credit card statement or contact your credit card provider for this information. If you have any other questions related to your PayPal account, please let me know.\"}', source='GroupChatManager'), UserMessage(content='My account number is A1234567890.', source='user'), UserMessage(content='{\"agentType\": \"AccountInfo\", \"body\": \"Thank you for providing your account number. How can I assist you with your PayPal account? Please provide more details about your query.\"}', source='GroupChatManager'), AssistantMessage(content='<Context>\\n Tool name is: get_account_info, \\n                                tool input is: {\"account_id\":\"A1234567890\"} \\n                                and tool result is: {\\n  \"account_id\": \"A1234567890\",\\n  \"email\": \"example@domain.com\",\\n  \"account_status\": \"verified\",\\n  \"account_type\": \"personal\",\\n  \"currency\": \"USD\",\\n  \"balance\": {\\n    \"currency_code\": \"USD\",\\n    \"value\": \"150.00\"\\n  },\\n  \"owner\": {\\n    \"first_name\": \"John\",\\n    \"last_name\": \"Doe\",\\n    \"address\": {\\n      \"line1\": \"123 Main St\",\\n      \"city\": \"Anytown\",\\n      \"state\": \"CA\",\\n      \"postal_code\": \"12345\",\\n      \"country_code\": \"US\"\\n    },\\n    \"phone\": \"+1234567890\"\\n  },\\n  \"created_at\": \"2023-01-15T08:55:30Z\",\\n  \"updated_at\": \"2024-10-09T10:20:15Z\",\\n  \"links\": [\\n    {\\n      \"href\": \"https://api.paypal.com/v1/accounts/A1234567890\",\\n      \"rel\": \"self\",\\n      \"method\": \"GET\"\\n    },\\n    {\\n      \"href\": \"https://api.paypal.com/v1/accounts/A1234567890/balance\",\\n      \"rel\": \"balance\",\\n      \"method\": \"GET\"\\n    }\\n  ]\\n}\\n\\n</Context>', source='tool_use_agent'), UserMessage(content='{\"agentType\": \"IntermediateResult\", \"body\": \"Your PayPal account information has been retrieved successfully. Here are the details:\\\\n\\\\n- **Account ID:** A1234567890\\\\n- **Email:** example@domain.com\\\\n- **Account Status:** Verified\\\\n- **Account Type:** Personal\\\\n- **Currency:** USD\\\\n- **Balance:** 150.00 USD\\\\n- **Owner:** John Doe\\\\n  - **Address:** 123 Main St, Anytown, CA, 12345, US\\\\n  - **Phone:** +1234567890\\\\n- **Account Created At:** 2023-01-15T08:55:30Z\\\\n- **Last Updated At:** 2024-10-09T10:20:15Z\"}', source='GroupChatManager'), UserMessage(content='what is my over draft limit?', source='user'), UserMessage(content='{\"agentType\": \"NeedMoreInfo\", \"body\": \"PayPal accounts typically do not have an overdraft limit as PayPal operates on a \\'pay as you go\\' basis. Overdrafts are generally linked to traditional bank accounts. If you have more specific questions about your PayPal account functionalities or limits, please let us know.\"}', source='GroupChatManager'), UserMessage(content='what is the maximum amount I can transact on my account number?', source='user'), UserMessage(content='{\"agentType\": \"NeedMoreInfo\", \"body\": \"The maximum transaction amount can vary based on several factors, including your account verification status, account type, and the type of transaction you are performing. Could you please specify the type of transaction you are referring to (e.g., sending money, receiving money, purchasing goods)? This will help us provide a more accurate answer.\"}', source='GroupChatManager')]\n",
      "body=UserMessage(content='I want to know my credit card balance. My account number is XYZ7890123456.', source='user') conversation_id='7bd391e5-0f88-49d8-894c-33cc039e1745'\n",
      "from A group_chat agent completion: {\"agentType\": \"NeedMoreInfo\", \"body\": \"I cannot assist with credit card balances as it is not related to your PayPal account. Please contact your credit card provider for this information.\"}\n",
      "\u001b[32m--------------------\u001b[0m\n",
      "Received by A Final Responder Agent:[UserMessage(content='I want to know my credit card balance. My account number is XYZ7890123456.', source='user'), UserMessage(content='{\"agentType\": \"NeedMoreInfo\", \"body\": \"I cannot assist with credit card balances as it is not related to your PayPal account. Please contact your credit card provider for this information.\"}', source='GroupChatManager')]\n",
      "body=UserMessage(content='Plan a 3 day road trip to zion national park', source='user') conversation_id='8ae8351d-6297-4f2b-b933-32ab98b3a7b2'\n",
      "from A group_chat agent completion: {\"agentType\": \"NeedMoreInfo\", \"body\": \"I can only assist with queries related to Paypal. If you have any questions or issues related to Paypal, please let me know and I'll be happy to help!\"}\n",
      "\u001b[32m--------------------\u001b[0m\n",
      "Received by A Final Responder Agent:[UserMessage(content='Plan a 3 day road trip to zion national park', source='user'), UserMessage(content='{\"agentType\": \"NeedMoreInfo\", \"body\": \"I can only assist with queries related to Paypal. If you have any questions or issues related to Paypal, please let me know and I\\'ll be happy to help!\"}', source='GroupChatManager')]\n",
      "body=UserMessage(content='What are payment reversals and how to avoid them', source='user') conversation_id='0777db21-c820-4e10-b6c9-cca6f529e580'\n",
      "from A group_chat agent completion: {\"agentType\": \"TransactionInfo\", \"body\": \"{\\\"query\\\": \\\"What are payment reversals and how to avoid them\\\"}\"}\n",
      "\u001b[32m--------------------\u001b[0m\n",
      "Received by A Transaction Info Agent Agent:[SystemMessage(content=\"\\n        You are Paypal Support Agent. You can provide information about the transaction details for the account.\\n        You need to know the 'account number' to provide the transaction details.\\n        If the 'account number' is provided use the get_transaction_details tool to get the transaction details.\\n        Format the response with 'Transaction Details:'.\\n        If the 'account number' is not provided, ask the user to provide the 'account number'.                                                      \\n\\n        \"), UserMessage(content='What are payment reversals and how to avoid them', source='user'), UserMessage(content='{\"agentType\": \"TransactionInfo\", \"body\": \"{\\\\\"query\\\\\": \\\\\"What are payment reversals and how to avoid them\\\\\"}\"}', source='GroupChatManager')]\n",
      "from A group_chat agent completion: {\"agentType\": \"IntermediateResult\", \"body\": \"{\\\"query\\\": \\\"What are payment reversals and how to avoid them\\\",\\\"answer\\\": \\\"Payment reversals, often known as chargebacks, occur when funds from a transaction are returned to the buyer's account. Types of payment reversals include: \\\\n1. Chargebacks: Initiated by the buyer's bank or credit card provider. \\\\n2. Refunds: Initiated by the seller or merchant. \\\\n3. Disputes: When a buyer challenges a transaction, prompting an investigation. To avoid payment reversals consider the following \\\\n1. Provide Clear Descriptions: Always provide a clear and detailed description of the items or services being sold. \\\\n2. Maintain Strong Communication: Respond promptly to buyer inquiries and resolve any issues quickly. \\\\n3. Secure Payment Methods: Use secure and verified payment methods to validate the identity of the buyer. \\\\n4. Keep Records: Maintain thorough records of transactions, including invoices, receipts, and correspondence. \\\\n5. Clear Return Policies: Have a clear return/refund policy and communicate it to buyers. \\\\n6. Shipment Tracking: Use trackable shipping methods and keep proof of delivery.\\\"}\"}\n",
      "\u001b[32m--------------------\u001b[0m\n",
      "Received by A Final Responder Agent:[UserMessage(content='What are payment reversals and how to avoid them', source='user'), UserMessage(content='{\"agentType\": \"TransactionInfo\", \"body\": \"{\\\\\"query\\\\\": \\\\\"What are payment reversals and how to avoid them\\\\\"}\"}', source='GroupChatManager'), AssistantMessage(content=\"Payment reversals, often known as chargebacks, occur when funds from a transaction are returned to the buyer's account. Types of payment reversals include:\\n\\n1. **Chargebacks**: Initiated by the buyer's bank or credit card provider.\\n2. **Refunds**: Initiated by the seller or merchant.\\n3. **Disputes**: When a buyer challenges a transaction, prompting an investigation.\\n\\nTo avoid payment reversals, consider the following:\\n\\n1. **Provide Clear Descriptions**: Always provide a clear and detailed description of the items or services being sold.\\n2. **Maintain Strong Communication**: Respond promptly to buyer inquiries and resolve any issues quickly.\\n3. **Secure Payment Methods**: Use secure and verified payment methods to validate the identity of the buyer.\\n4. **Keep Records**: Maintain thorough records of transactions, including invoices, receipts, and correspondence.\\n5. **Clear Return Policies**: Have a clear return/refund policy and communicate it to buyers.\\n6. **Shipment Tracking**: Use trackable shipping methods and keep proof of delivery.\\n\\nWould you like to know the transaction details for a specific account? If so, please provide the 'account number'.\", source='tool_use_agent'), UserMessage(content='{\"agentType\": \"IntermediateResult\", \"body\": \"{\\\\\"query\\\\\": \\\\\"What are payment reversals and how to avoid them\\\\\",\\\\\"answer\\\\\": \\\\\"Payment reversals, often known as chargebacks, occur when funds from a transaction are returned to the buyer\\'s account. Types of payment reversals include: \\\\\\\\n1. Chargebacks: Initiated by the buyer\\'s bank or credit card provider. \\\\\\\\n2. Refunds: Initiated by the seller or merchant. \\\\\\\\n3. Disputes: When a buyer challenges a transaction, prompting an investigation. To avoid payment reversals consider the following \\\\\\\\n1. Provide Clear Descriptions: Always provide a clear and detailed description of the items or services being sold. \\\\\\\\n2. Maintain Strong Communication: Respond promptly to buyer inquiries and resolve any issues quickly. \\\\\\\\n3. Secure Payment Methods: Use secure and verified payment methods to validate the identity of the buyer. \\\\\\\\n4. Keep Records: Maintain thorough records of transactions, including invoices, receipts, and correspondence. \\\\\\\\n5. Clear Return Policies: Have a clear return/refund policy and communicate it to buyers. \\\\\\\\n6. Shipment Tracking: Use trackable shipping methods and keep proof of delivery.\\\\\"}\"}', source='GroupChatManager')]\n",
      "body=UserMessage(content='get my transaction details', source='user') conversation_id='1a9d03fb-f400-41c8-b8ea-484ff40f8d5b'\n",
      "from A group_chat agent completion: {\"agentType\": \"TransactionInfo\", \"body\": \"Please provide a specific time frame or any particular transaction details you are looking for (e.g., recent transactions, transactions from last month). This will help us locate and provide the transaction details for your PayPal account.\"}\n",
      "\u001b[32m--------------------\u001b[0m\n",
      "Received by A Transaction Info Agent Agent:[SystemMessage(content=\"\\n        You are Paypal Support Agent. You can provide information about the transaction details for the account.\\n        You need to know the 'account number' to provide the transaction details.\\n        If the 'account number' is provided use the get_transaction_details tool to get the transaction details.\\n        Format the response with 'Transaction Details:'.\\n        If the 'account number' is not provided, ask the user to provide the 'account number'.                                                      \\n\\n        \"), UserMessage(content='I want to know my credit card balance.', source='user'), UserMessage(content='{\"agentType\": \"NeedMoreInfo\", \"body\": \"Please note that PayPal does not have direct access to your credit card balance. You should check your credit card statement or contact your credit card provider for this information. If you have any other questions related to your PayPal account, please let me know.\"}', source='GroupChatManager'), UserMessage(content='My account number is A1234567890.', source='user'), UserMessage(content='{\"agentType\": \"AccountInfo\", \"body\": \"Thank you for providing your account number. How can I assist you with your PayPal account? Please provide more details about your query.\"}', source='GroupChatManager'), AssistantMessage(content='<Context>\\n Tool name is: get_account_info, \\n                                tool input is: {\"account_id\":\"A1234567890\"} \\n                                and tool result is: {\\n  \"account_id\": \"A1234567890\",\\n  \"email\": \"example@domain.com\",\\n  \"account_status\": \"verified\",\\n  \"account_type\": \"personal\",\\n  \"currency\": \"USD\",\\n  \"balance\": {\\n    \"currency_code\": \"USD\",\\n    \"value\": \"150.00\"\\n  },\\n  \"owner\": {\\n    \"first_name\": \"John\",\\n    \"last_name\": \"Doe\",\\n    \"address\": {\\n      \"line1\": \"123 Main St\",\\n      \"city\": \"Anytown\",\\n      \"state\": \"CA\",\\n      \"postal_code\": \"12345\",\\n      \"country_code\": \"US\"\\n    },\\n    \"phone\": \"+1234567890\"\\n  },\\n  \"created_at\": \"2023-01-15T08:55:30Z\",\\n  \"updated_at\": \"2024-10-09T10:20:15Z\",\\n  \"links\": [\\n    {\\n      \"href\": \"https://api.paypal.com/v1/accounts/A1234567890\",\\n      \"rel\": \"self\",\\n      \"method\": \"GET\"\\n    },\\n    {\\n      \"href\": \"https://api.paypal.com/v1/accounts/A1234567890/balance\",\\n      \"rel\": \"balance\",\\n      \"method\": \"GET\"\\n    }\\n  ]\\n}\\n\\n</Context>', source='tool_use_agent'), UserMessage(content='{\"agentType\": \"IntermediateResult\", \"body\": \"Your PayPal account information has been retrieved successfully. Here are the details:\\\\n\\\\n- **Account ID:** A1234567890\\\\n- **Email:** example@domain.com\\\\n- **Account Status:** Verified\\\\n- **Account Type:** Personal\\\\n- **Currency:** USD\\\\n- **Balance:** 150.00 USD\\\\n- **Owner:** John Doe\\\\n  - **Address:** 123 Main St, Anytown, CA, 12345, US\\\\n  - **Phone:** +1234567890\\\\n- **Account Created At:** 2023-01-15T08:55:30Z\\\\n- **Last Updated At:** 2024-10-09T10:20:15Z\"}', source='GroupChatManager'), UserMessage(content='what is my over draft limit?', source='user'), UserMessage(content='{\"agentType\": \"NeedMoreInfo\", \"body\": \"PayPal accounts typically do not have an overdraft limit as PayPal operates on a \\'pay as you go\\' basis. Overdrafts are generally linked to traditional bank accounts. If you have more specific questions about your PayPal account functionalities or limits, please let us know.\"}', source='GroupChatManager'), UserMessage(content='what is the maximum amount I can transact on my account number?', source='user'), UserMessage(content='{\"agentType\": \"NeedMoreInfo\", \"body\": \"The maximum transaction amount can vary based on several factors, including your account verification status, account type, and the type of transaction you are performing. Could you please specify the type of transaction you are referring to (e.g., sending money, receiving money, purchasing goods)? This will help us provide a more accurate answer.\"}', source='GroupChatManager'), UserMessage(content='get my transaction details', source='user'), UserMessage(content='{\"agentType\": \"TransactionInfo\", \"body\": \"Please provide a specific time frame or any particular transaction details you are looking for (e.g., recent transactions, transactions from last month). This will help us locate and provide the transaction details for your PayPal account.\"}', source='GroupChatManager')]\n",
      "from A group_chat agent completion: {\"agentType\": \"IntermediateResult\", \"body\": \"Here are the details of your recent transaction:\\n\\n- **Transaction ID:** 9HX25435AB0123456\\n- **Status:** Completed\\n- **Amount:** 75.00 USD\\n- **Transaction Fee:** 2.50 USD\\n\\n**Payer Details:**\\n- **Payer ID:** A1234567890\\n- **Email:** buyer@example.com\\n- **Name:** John Doe\\n- **Country:** US\\n\\n**Payee Details:**\\n- **Merchant ID:** MERCHANT987654321\\n- **Email:** seller@example.com\\n- **Name:** Alice's Art Supplies\\n\\n**Payment Method:** PayPal\\n- **Create Time:** 2024-09-29T12:45:30Z\\n- **Update Time:** 2024-09-29T12:46:45Z\\n\\n**Transaction Details:**\\n- **Items:**\\n   - Watercolor Paint Set (Quantity: 1, Price: 50.00 USD)\\n   - Brush Set (Quantity: 1, Price: 25.00 USD)\\n- **Shipping Address:** John Doe, 123 Main St, Anytown, CA, 90210, US\\n- **Shipping Cost:** 5.00 USD\\n\\nFor more details, visit the [transaction link](https://api.paypal.com/v1/payments/transaction/9HX25435AB0123456).\"}\n",
      "\u001b[32m--------------------\u001b[0m\n",
      "Received by A Final Responder Agent:[UserMessage(content='I want to know my credit card balance.', source='user'), UserMessage(content='{\"agentType\": \"NeedMoreInfo\", \"body\": \"Please note that PayPal does not have direct access to your credit card balance. You should check your credit card statement or contact your credit card provider for this information. If you have any other questions related to your PayPal account, please let me know.\"}', source='GroupChatManager'), UserMessage(content='My account number is A1234567890.', source='user'), UserMessage(content='{\"agentType\": \"AccountInfo\", \"body\": \"Thank you for providing your account number. How can I assist you with your PayPal account? Please provide more details about your query.\"}', source='GroupChatManager'), AssistantMessage(content='<Context>\\n Tool name is: get_account_info, \\n                                tool input is: {\"account_id\":\"A1234567890\"} \\n                                and tool result is: {\\n  \"account_id\": \"A1234567890\",\\n  \"email\": \"example@domain.com\",\\n  \"account_status\": \"verified\",\\n  \"account_type\": \"personal\",\\n  \"currency\": \"USD\",\\n  \"balance\": {\\n    \"currency_code\": \"USD\",\\n    \"value\": \"150.00\"\\n  },\\n  \"owner\": {\\n    \"first_name\": \"John\",\\n    \"last_name\": \"Doe\",\\n    \"address\": {\\n      \"line1\": \"123 Main St\",\\n      \"city\": \"Anytown\",\\n      \"state\": \"CA\",\\n      \"postal_code\": \"12345\",\\n      \"country_code\": \"US\"\\n    },\\n    \"phone\": \"+1234567890\"\\n  },\\n  \"created_at\": \"2023-01-15T08:55:30Z\",\\n  \"updated_at\": \"2024-10-09T10:20:15Z\",\\n  \"links\": [\\n    {\\n      \"href\": \"https://api.paypal.com/v1/accounts/A1234567890\",\\n      \"rel\": \"self\",\\n      \"method\": \"GET\"\\n    },\\n    {\\n      \"href\": \"https://api.paypal.com/v1/accounts/A1234567890/balance\",\\n      \"rel\": \"balance\",\\n      \"method\": \"GET\"\\n    }\\n  ]\\n}\\n\\n</Context>', source='tool_use_agent'), UserMessage(content='{\"agentType\": \"IntermediateResult\", \"body\": \"Your PayPal account information has been retrieved successfully. Here are the details:\\\\n\\\\n- **Account ID:** A1234567890\\\\n- **Email:** example@domain.com\\\\n- **Account Status:** Verified\\\\n- **Account Type:** Personal\\\\n- **Currency:** USD\\\\n- **Balance:** 150.00 USD\\\\n- **Owner:** John Doe\\\\n  - **Address:** 123 Main St, Anytown, CA, 12345, US\\\\n  - **Phone:** +1234567890\\\\n- **Account Created At:** 2023-01-15T08:55:30Z\\\\n- **Last Updated At:** 2024-10-09T10:20:15Z\"}', source='GroupChatManager'), UserMessage(content='what is my over draft limit?', source='user'), UserMessage(content='{\"agentType\": \"NeedMoreInfo\", \"body\": \"PayPal accounts typically do not have an overdraft limit as PayPal operates on a \\'pay as you go\\' basis. Overdrafts are generally linked to traditional bank accounts. If you have more specific questions about your PayPal account functionalities or limits, please let us know.\"}', source='GroupChatManager'), UserMessage(content='what is the maximum amount I can transact on my account number?', source='user'), UserMessage(content='{\"agentType\": \"NeedMoreInfo\", \"body\": \"The maximum transaction amount can vary based on several factors, including your account verification status, account type, and the type of transaction you are performing. Could you please specify the type of transaction you are referring to (e.g., sending money, receiving money, purchasing goods)? This will help us provide a more accurate answer.\"}', source='GroupChatManager'), UserMessage(content='get my transaction details', source='user'), UserMessage(content='{\"agentType\": \"TransactionInfo\", \"body\": \"Please provide a specific time frame or any particular transaction details you are looking for (e.g., recent transactions, transactions from last month). This will help us locate and provide the transaction details for your PayPal account.\"}', source='GroupChatManager'), AssistantMessage(content='<Context>\\n Tool name is: get_transaction_details, \\n                                tool input is: {\"account_id\":\"A1234567890\"} \\n                                and tool result is: {\\n    \"transaction_id\": \"9HX25435AB0123456\",\\n    \"status\": \"completed\",\\n    \"amount\": {\\n      \"total\": \"75.00\",\\n      \"currency\": \"USD\"\\n    },\\n    \"transaction_fee\": {\\n      \"value\": \"2.50\",\\n      \"currency\": \"USD\"\\n    },\\n    \"payer\": {\\n      \"payer_id\": \"A1234567890\",\\n      \"email\": \"buyer@example.com\",\\n      \"name\": {\\n        \"given_name\": \"John\",\\n        \"surname\": \"Doe\"\\n      },\\n      \"country_code\": \"US\"\\n    },\\n    \"payee\": {\\n      \"merchant_id\": \"MERCHANT987654321\",\\n      \"email\": \"seller@example.com\",\\n      \"name\": \"Alice\\'s Art Supplies\"\\n    },\\n    \"payment_method\": \"PayPal\",\\n    \"create_time\": \"2024-09-29T12:45:30Z\",\\n    \"update_time\": \"2024-09-29T12:46:45Z\",\\n    \"transaction_details\": {\\n      \"item_list\": [\\n        {\\n          \"item_name\": \"Watercolor Paint Set\",\\n          \"quantity\": 1,\\n          \"price\": \"50.00\",\\n          \"currency\": \"USD\"\\n        },\\n        {\\n          \"item_name\": \"Brush Set\",\\n          \"quantity\": 1,\\n          \"price\": \"25.00\",\\n          \"currency\": \"USD\"\\n        }\\n      ],\\n      \"shipping_address\": {\\n        \"recipient_name\": \"John Doe\",\\n        \"line1\": \"123 Main St\",\\n        \"city\": \"Anytown\",\\n        \"state\": \"CA\",\\n        \"postal_code\": \"90210\",\\n        \"country_code\": \"US\"\\n      },\\n      \"shipping_cost\": {\\n        \"value\": \"5.00\",\\n        \"currency\": \"USD\"\\n      }\\n    },\\n    \"links\": [\\n      {\\n        \"href\": \"https://api.paypal.com/v1/payments/transaction/9HX25435AB0123456\",\\n        \"rel\": \"self\",\\n        \"method\": \"GET\"\\n      }\\n    ]\\n  }\\n  \\n</Context>', source='tool_use_agent'), UserMessage(content='{\"agentType\": \"IntermediateResult\", \"body\": \"Here are the details of your recent transaction:\\\\n\\\\n- **Transaction ID:** 9HX25435AB0123456\\\\n- **Status:** Completed\\\\n- **Amount:** 75.00 USD\\\\n- **Transaction Fee:** 2.50 USD\\\\n\\\\n**Payer Details:**\\\\n- **Payer ID:** A1234567890\\\\n- **Email:** buyer@example.com\\\\n- **Name:** John Doe\\\\n- **Country:** US\\\\n\\\\n**Payee Details:**\\\\n- **Merchant ID:** MERCHANT987654321\\\\n- **Email:** seller@example.com\\\\n- **Name:** Alice\\'s Art Supplies\\\\n\\\\n**Payment Method:** PayPal\\\\n- **Create Time:** 2024-09-29T12:45:30Z\\\\n- **Update Time:** 2024-09-29T12:46:45Z\\\\n\\\\n**Transaction Details:**\\\\n- **Items:**\\\\n   - Watercolor Paint Set (Quantity: 1, Price: 50.00 USD)\\\\n   - Brush Set (Quantity: 1, Price: 25.00 USD)\\\\n- **Shipping Address:** John Doe, 123 Main St, Anytown, CA, 90210, US\\\\n- **Shipping Cost:** 5.00 USD\\\\n\\\\nFor more details, visit the [transaction link](https://api.paypal.com/v1/payments/transaction/9HX25435AB0123456).\"}', source='GroupChatManager')]\n"
     ]
    },
    {
     "name": "stdout",
     "output_type": "stream",
     "text": [
      "conversation_id: 1a9d03fb-f400-41c8-b8ea-484ff40f8d5b\n",
      "\u001b[35m--------------------\u001b[0m\n",
      "PayPal does not have direct access to your credit card balance. To find out your credit card balance, please check your credit card statement or contact your credit card provider. If you have any other questions related to your PayPal account, please let me know.\n"
     ]
    }
   ],
   "source": [
    "conversation_id1 = str(uuid.uuid4())\n",
    "user_query = \"I want to know my credit card balance.\"\n",
    "await get_answer(conversation_id1, user_query)"
   ]
  },
  {
   "cell_type": "code",
   "execution_count": 5,
   "metadata": {},
   "outputs": [
    {
     "name": "stdout",
     "output_type": "stream",
     "text": [
      "conversation_id: 1a9d03fb-f400-41c8-b8ea-484ff40f8d5b\n",
      "\u001b[35m--------------------\u001b[0m\n",
      "As previously mentioned, PayPal does not have direct access to your credit card balance. \n",
      "\n",
      "To check the balance of a credit card linked to your PayPal account, you should directly refer to your credit card statement or contact your credit card provider. PayPal can assist with transactions and your PayPal account details but cannot provide information on a credit card balance.\n",
      "\n",
      "If you have any other questions related to your PayPal account, please feel free to let me know!\n"
     ]
    }
   ],
   "source": [
    "user_query = \"My account number is A1234567890.\"\n",
    "await get_answer(conversation_id1, user_query)"
   ]
  },
  {
   "cell_type": "code",
   "execution_count": 6,
   "metadata": {},
   "outputs": [
    {
     "name": "stdout",
     "output_type": "stream",
     "text": [
      "conversation_id: 1a9d03fb-f400-41c8-b8ea-484ff40f8d5b\n",
      "\u001b[35m--------------------\u001b[0m\n",
      "As previously mentioned, PayPal accounts do not generally have an overdraft limit because PayPal operates on a 'pay as you go' basis. Overdrafts are usually associated with traditional bank accounts. \n",
      "\n",
      "If you have more specific questions about your PayPal account functionalities or any other inquiries, please feel free to ask.\n"
     ]
    }
   ],
   "source": [
    "user_query = \"what is my over draft limit?\"\n",
    "await get_answer(conversation_id1, user_query)"
   ]
  },
  {
   "cell_type": "code",
   "execution_count": 7,
   "metadata": {},
   "outputs": [
    {
     "name": "stdout",
     "output_type": "stream",
     "text": [
      "conversation_id: 1a9d03fb-f400-41c8-b8ea-484ff40f8d5b\n",
      "\u001b[35m--------------------\u001b[0m\n",
      "In order to provide specific information regarding the maximum amount you can transact on your account, please specify the type of transaction you are inquiring about (e.g., sending money, receiving money, purchasing goods). Once we have that information, we can offer more detailed guidance.\n"
     ]
    }
   ],
   "source": [
    "user_query = \"what is the maximum amount I can transact on my account number?\"\n",
    "await get_answer(conversation_id1, user_query)"
   ]
  },
  {
   "cell_type": "code",
   "execution_count": 8,
   "metadata": {},
   "outputs": [
    {
     "name": "stdout",
     "output_type": "stream",
     "text": [
      "conversation_id: 7bd391e5-0f88-49d8-894c-33cc039e1745\n",
      "\u001b[35m--------------------\u001b[0m\n",
      "Thank you for your question. Unfortunately, I am unable to assist with credit card balances as this is not related to your PayPal account. Please reach out to your credit card provider directly for information regarding your credit card balance.\n"
     ]
    }
   ],
   "source": [
    "conversation_id2 = str(uuid.uuid4())\n",
    "user_query = \"I want to know my credit card balance. My account number is XYZ7890123456.\"\n",
    "await get_answer(conversation_id2, user_query)"
   ]
  },
  {
   "cell_type": "code",
   "execution_count": 9,
   "metadata": {},
   "outputs": [
    {
     "name": "stdout",
     "output_type": "stream",
     "text": [
      "conversation_id: 8ae8351d-6297-4f2b-b933-32ab98b3a7b2\n",
      "\u001b[35m--------------------\u001b[0m\n",
      "I'm here to assist with PayPal-related queries. If you have any questions or issues regarding your PayPal account or transactions, please let me know, and I will be happy to help you! If you need travel planning assistance, you might want to consult a travel planner or use a travel booking website.\n"
     ]
    }
   ],
   "source": [
    "conversation_id3 = str(uuid.uuid4())\n",
    "user_query = \"Plan a 3 day road trip to zion national park\"\n",
    "await get_answer(conversation_id3, user_query)"
   ]
  },
  {
   "cell_type": "code",
   "execution_count": 10,
   "metadata": {},
   "outputs": [
    {
     "name": "stdout",
     "output_type": "stream",
     "text": [
      "conversation_id: 0777db21-c820-4e10-b6c9-cca6f529e580\n",
      "\u001b[35m--------------------\u001b[0m\n",
      "Payment reversals, often known as chargebacks, occur when funds from a transaction are returned to the buyer's account. Types of payment reversals include:\n",
      "\n",
      "1. **Chargebacks**: Initiated by the buyer's bank or credit card provider.\n",
      "2. **Refunds**: Initiated by the seller or merchant.\n",
      "3. **Disputes**: When a buyer challenges a transaction, prompting an investigation.\n",
      "\n",
      "To avoid payment reversals, consider the following:\n",
      "\n",
      "1. **Provide Clear Descriptions**: Always provide a clear and detailed description of the items or services being sold.\n",
      "2. **Maintain Strong Communication**: Respond promptly to buyer inquiries and resolve any issues quickly.\n",
      "3. **Secure Payment Methods**: Use secure and verified payment methods to validate the identity of the buyer.\n",
      "4. **Keep Records**: Maintain thorough records of transactions, including invoices, receipts, and correspondence.\n",
      "5. **Clear Return Policies**: Have a clear return/refund policy and communicate it to buyers.\n",
      "6. **Shipment Tracking**: Use trackable shipping methods and keep proof of delivery.\n",
      "\n",
      "If you have any more questions, feel free to ask!\n"
     ]
    }
   ],
   "source": [
    "conversation_id4 = str(uuid.uuid4())\n",
    "user_query = \"What are payment reversals and how to avoid them\"\n",
    "await get_answer(conversation_id4, user_query)"
   ]
  },
  {
   "cell_type": "code",
   "execution_count": 11,
   "metadata": {},
   "outputs": [
    {
     "name": "stdout",
     "output_type": "stream",
     "text": [
      "conversation_id: 1a9d03fb-f400-41c8-b8ea-484ff40f8d5b\n",
      "\u001b[35m--------------------\u001b[0m\n",
      "Your most recent transaction details are as follows:\n",
      "\n",
      "- **Transaction ID:** 9HX25435AB0123456\n",
      "- **Status:** Completed\n",
      "- **Amount:** $75.00 USD\n",
      "- **Transaction Fee:** $2.50 USD\n",
      "\n",
      "**Payer Details:**\n",
      "- **Payer ID:** A1234567890\n",
      "- **Email:** buyer@example.com\n",
      "- **Name:** John Doe\n",
      "- **Country:** US\n",
      "\n",
      "**Payee Details:**\n",
      "- **Merchant ID:** MERCHANT987654321\n",
      "- **Email:** seller@example.com\n",
      "- **Name:** Alice's Art Supplies\n",
      "\n",
      "**Payment Method:** PayPal\n",
      "- **Create Time:** 2024-09-29T12:45:30Z\n",
      "- **Update Time:** 2024-09-29T12:46:45Z\n",
      "\n",
      "**Transaction Details:**\n",
      "- **Items:**\n",
      "  - Watercolor Paint Set (Quantity: 1, Price: $50.00 USD)\n",
      "  - Brush Set (Quantity: 1, Price: $25.00 USD)\n",
      "- **Shipping Address:** John Doe, 123 Main St, Anytown, CA, 90210, US\n",
      "- **Shipping Cost:** $5.00 USD\n",
      "\n",
      "If you need further information, you can visit the [transaction link](https://api.paypal.com/v1/payments/transaction/9HX25435AB0123456).\n",
      "\n",
      "If you have any other questions or need further details, feel free to ask!\n"
     ]
    }
   ],
   "source": [
    "user_query = \"get my transaction details\"\n",
    "await get_answer(conversation_id1, user_query)"
   ]
  }
 ],
 "metadata": {
  "kernelspec": {
   "display_name": "autogenv0.4",
   "language": "python",
   "name": "python3"
  },
  "language_info": {
   "codemirror_mode": {
    "name": "ipython",
    "version": 3
   },
   "file_extension": ".py",
   "mimetype": "text/x-python",
   "name": "python",
   "nbconvert_exporter": "python",
   "pygments_lexer": "ipython3",
   "version": "3.11.10"
  }
 },
 "nbformat": 4,
 "nbformat_minor": 2
}
