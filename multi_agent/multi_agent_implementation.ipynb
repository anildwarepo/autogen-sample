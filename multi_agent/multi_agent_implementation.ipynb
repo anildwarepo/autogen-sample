{
 "cells": [
  {
   "cell_type": "code",
   "execution_count": 1,
   "metadata": {},
   "outputs": [
    {
     "name": "stdout",
     "output_type": "stream",
     "text": [
      "c:\\source\\repos\\autogen_v0.4 demo\\multi_agent\n"
     ]
    }
   ],
   "source": [
    "import sys\n",
    "import os\n",
    "\n",
    "# Get the current working directory (where the notebook is running)\n",
    "notebook_dir = os.getcwd()\n",
    "\n",
    "# Add the parent directory to the system path\n",
    "parent_dir = os.path.abspath(os.path.join(notebook_dir, '.'))\n",
    "sys.path.append(parent_dir)\n",
    "print(parent_dir)"
   ]
  },
  {
   "cell_type": "code",
   "execution_count": 2,
   "metadata": {},
   "outputs": [
    {
     "name": "stdout",
     "output_type": "stream",
     "text": [
      "c:\\source\\repos\\autogen_v0.4 demo\n"
     ]
    }
   ],
   "source": [
    "from multi_agent_implementation import *\n",
    "runtime = SingleThreadedAgentRuntime()\n",
    "await register_agents(runtime)\n",
    "runtime.start()"
   ]
  },
  {
   "cell_type": "code",
   "execution_count": 3,
   "metadata": {},
   "outputs": [],
   "source": [
    "async def get_answer(conversation_id, user_query):\n",
    "\n",
    "    await runtime.publish_message(GroupChatMessage(body=UserMessage(content=user_query, source=\"user\"), \n",
    "                                                conversation_id=conversation_id), DefaultTopicId(type=\"group_chat_any_topic\", source=conversation_id)) \n",
    "\n",
    "    group_chat_result = \"\"\n",
    "    try:\n",
    "        # Wait for a message in the queue, or you can use a timeout if needed\n",
    "        #group_chat_result = (await queue.get()).body.content\n",
    "        # clear queue \n",
    "        async with condition:\n",
    "            while conversation_id not in llm_results_dict:\n",
    "                await condition.wait()\n",
    "\n",
    "            \n",
    "            group_chat_result = llm_results_dict[conversation_id].body.content\n",
    "            del llm_results_dict[conversation_id]\n",
    "            print(f\"conversation_id: {conversation_id}\")\n",
    "            print(\"\\033[35m\" + \"-\" * 20 + \"\\033[0m\")\n",
    "    except Exception as e:\n",
    "        # Handle any exception that may occur during the wait for the response\n",
    "        print(f\"Error retrieving message from queue: {e}\")\n",
    "        group_chat_result = \"An error occurred while waiting for the response.\"\n",
    "\n",
    "    print(group_chat_result)"
   ]
  },
  {
   "cell_type": "code",
   "execution_count": null,
   "metadata": {},
   "outputs": [
    {
     "name": "stderr",
     "output_type": "stream",
     "text": [
      "Error processing publish message\n",
      "Traceback (most recent call last):\n",
      "  File \"c:\\Users\\anildwa\\AppData\\Local\\miniconda3\\envs\\autogenv0.4\\Lib\\site-packages\\autogen_core\\application\\_single_threaded_agent_runtime.py\", line 385, in _process_publish\n",
      "    await asyncio.gather(*responses)\n",
      "  File \"c:\\Users\\anildwa\\AppData\\Local\\miniconda3\\envs\\autogenv0.4\\Lib\\site-packages\\autogen_core\\application\\_single_threaded_agent_runtime.py\", line 377, in _on_message\n",
      "    return await agent.on_message(\n",
      "           ^^^^^^^^^^^^^^^^^^^^^^^\n",
      "  File \"c:\\Users\\anildwa\\AppData\\Local\\miniconda3\\envs\\autogenv0.4\\Lib\\site-packages\\autogen_core\\components\\_routed_agent.py\", line 468, in on_message\n",
      "    return await h(self, message, ctx)\n",
      "           ^^^^^^^^^^^^^^^^^^^^^^^^^^^\n",
      "  File \"c:\\Users\\anildwa\\AppData\\Local\\miniconda3\\envs\\autogenv0.4\\Lib\\site-packages\\autogen_core\\components\\_routed_agent.py\", line 148, in wrapper\n",
      "    return_value = await func(self, message, ctx)\n",
      "                   ^^^^^^^^^^^^^^^^^^^^^^^^^^^^^^\n",
      "  File \"c:\\source\\repos\\autogen_v0.4 demo\\multi_agent\\multi_agent_implementation.py\", line 212, in handle_user_message\n",
      "    await self.handle_group_messages(GroupChatMessages(body=[message.body], conversation_id=message.conversation_id), context)\n",
      "  File \"c:\\Users\\anildwa\\AppData\\Local\\miniconda3\\envs\\autogenv0.4\\Lib\\site-packages\\autogen_core\\components\\_routed_agent.py\", line 148, in wrapper\n",
      "    return_value = await func(self, message, ctx)\n",
      "                   ^^^^^^^^^^^^^^^^^^^^^^^^^^^^^^\n",
      "  File \"c:\\source\\repos\\autogen_v0.4 demo\\multi_agent\\multi_agent_implementation.py\", line 197, in handle_group_messages\n",
      "    completion = await self._model_client.create(self._chat_history)\n",
      "                 ^^^^^^^^^^^^^^^^^^^^^^^^^^^^^^^^^^^^^^^^^^^^^^^^^^^\n",
      "  File \"c:\\Users\\anildwa\\AppData\\Local\\miniconda3\\envs\\autogenv0.4\\Lib\\site-packages\\autogen_core\\components\\models\\_openai_client.py\", line 477, in create\n",
      "    result: Union[ParsedChatCompletion[BaseModel], ChatCompletion] = await future\n",
      "                                                                     ^^^^^^^^^^^^\n",
      "  File \"c:\\Users\\anildwa\\AppData\\Local\\miniconda3\\envs\\autogenv0.4\\Lib\\site-packages\\openai\\resources\\chat\\completions.py\", line 1490, in create\n",
      "    return await self._post(\n",
      "           ^^^^^^^^^^^^^^^^^\n",
      "  File \"c:\\Users\\anildwa\\AppData\\Local\\miniconda3\\envs\\autogenv0.4\\Lib\\site-packages\\openai\\_base_client.py\", line 1838, in post\n",
      "    return await self.request(cast_to, opts, stream=stream, stream_cls=stream_cls)\n",
      "           ^^^^^^^^^^^^^^^^^^^^^^^^^^^^^^^^^^^^^^^^^^^^^^^^^^^^^^^^^^^^^^^^^^^^^^^\n",
      "  File \"c:\\Users\\anildwa\\AppData\\Local\\miniconda3\\envs\\autogenv0.4\\Lib\\site-packages\\openai\\_base_client.py\", line 1532, in request\n",
      "    return await self._request(\n",
      "           ^^^^^^^^^^^^^^^^^^^^\n",
      "  File \"c:\\Users\\anildwa\\AppData\\Local\\miniconda3\\envs\\autogenv0.4\\Lib\\site-packages\\openai\\_base_client.py\", line 1633, in _request\n",
      "    raise self._make_status_error_from_response(err.response) from None\n",
      "openai.AuthenticationError: Error code: 401 - {'statusCode': 401, 'message': 'Unauthorized. Access token is missing, invalid, audience is incorrect (https://cognitiveservices.azure.com), or have expired.'}\n"
     ]
    }
   ],
   "source": [
    "conversation_id1 = str(uuid.uuid4())\n",
    "user_query = \"I want to know my credit card balance.\"\n",
    "await get_answer(conversation_id1, user_query)"
   ]
  },
  {
   "cell_type": "code",
   "execution_count": 5,
   "metadata": {},
   "outputs": [
    {
     "name": "stdout",
     "output_type": "stream",
     "text": [
      "conversation_id: d46ad814-c74e-41d1-a2d3-a0cb125aea46\n",
      "\u001b[35m--------------------\u001b[0m\n",
      "It seems that the account number you provided, 1255, could not be found in our system. Could you please double-check the account number and provide it again?\n"
     ]
    }
   ],
   "source": [
    "user_query = \"My account number is 1255.\"\n",
    "await get_answer(conversation_id1, user_query)"
   ]
  },
  {
   "cell_type": "code",
   "execution_count": 6,
   "metadata": {},
   "outputs": [
    {
     "name": "stdout",
     "output_type": "stream",
     "text": [
      "conversation_id: d46ad814-c74e-41d1-a2d3-a0cb125aea46\n",
      "\u001b[35m--------------------\u001b[0m\n",
      "It appears that the account number you provided is incorrect or not found in our system. \n",
      "\n",
      "You can find your account number by logging into your Transify account online or using the Transify mobile app. The account number is typically listed under the account details section. If you're unable to locate it, please contact our customer support for further assistance.\n",
      "\n",
      "Once you have the correct account number, please provide it so we can help retrieve your credit card balance.\n"
     ]
    }
   ],
   "source": [
    "user_query = \"where do I find my account number?\"\n",
    "await get_answer(conversation_id1, user_query)"
   ]
  },
  {
   "cell_type": "code",
   "execution_count": 7,
   "metadata": {},
   "outputs": [
    {
     "name": "stdout",
     "output_type": "stream",
     "text": [
      "conversation_id: d46ad814-c74e-41d1-a2d3-a0cb125aea46\n",
      "\u001b[35m--------------------\u001b[0m\n",
      "Your current credit card balance is $150.00 USD. If you have any further questions or need additional assistance, feel free to ask.\n"
     ]
    }
   ],
   "source": [
    "user_query = \"My account number is A1234567890.\"\n",
    "await get_answer(conversation_id1, user_query)"
   ]
  },
  {
   "cell_type": "code",
   "execution_count": 8,
   "metadata": {},
   "outputs": [
    {
     "name": "stdout",
     "output_type": "stream",
     "text": [
      "conversation_id: d46ad814-c74e-41d1-a2d3-a0cb125aea46\n",
      "\u001b[35m--------------------\u001b[0m\n",
      "I have provided your account balance which is 150.00 USD. Unfortunately, the information about your overdraft limit is not available through this service. Please contact Transify customer support for specific details regarding your overdraft limit.\n"
     ]
    }
   ],
   "source": [
    "user_query = \"what is my over draft limit?\"\n",
    "await get_answer(conversation_id1, user_query)"
   ]
  },
  {
   "cell_type": "code",
   "execution_count": 9,
   "metadata": {},
   "outputs": [
    {
     "name": "stdout",
     "output_type": "stream",
     "text": [
      "conversation_id: d46ad814-c74e-41d1-a2d3-a0cb125aea46\n",
      "\u001b[35m--------------------\u001b[0m\n",
      "To provide you with the specific transaction limit for your account, I will need to check certain account details. Unfortunately, I am unable to retrieve this information directly from the current data.\n",
      "\n",
      "Please contact Transify customer support directly, and they will be able to provide you with the maximum transaction limit for your account.\n",
      "\n",
      "In case you have any other questions or need further assistance, please let me know!\n"
     ]
    }
   ],
   "source": [
    "user_query = \"what is the maximum amount I can transact on my account number?\"\n",
    "await get_answer(conversation_id1, user_query)"
   ]
  },
  {
   "cell_type": "code",
   "execution_count": 10,
   "metadata": {},
   "outputs": [
    {
     "name": "stdout",
     "output_type": "stream",
     "text": [
      "conversation_id: 2262ae3f-258c-44c4-b596-d6a14acd4381\n",
      "\u001b[35m--------------------\u001b[0m\n",
      "Your credit card balance is 300.00 EUR and 100.00 USD. If you have any other questions or need further assistance, please let me know.\n"
     ]
    }
   ],
   "source": [
    "conversation_id2 = str(uuid.uuid4())\n",
    "user_query = \"I want to know my credit card balance. My account number is XYZ7890123456.\"\n",
    "await get_answer(conversation_id2, user_query)"
   ]
  },
  {
   "cell_type": "code",
   "execution_count": 11,
   "metadata": {},
   "outputs": [
    {
     "name": "stdout",
     "output_type": "stream",
     "text": [
      "conversation_id: 51796266-a9b3-4cfe-bd45-f58b4612518d\n",
      "\u001b[35m--------------------\u001b[0m\n",
      "I understand that your question is not related to Transify services. If you have inquiries regarding your Transify account or services, please feel free to ask. If you need assistance with planning a trip, I recommend visiting travel websites or forums. Thank you!\n"
     ]
    }
   ],
   "source": [
    "conversation_id3 = str(uuid.uuid4())\n",
    "user_query = \"Plan a 3 day road trip to zion national park\"\n",
    "await get_answer(conversation_id3, user_query)"
   ]
  },
  {
   "cell_type": "code",
   "execution_count": 12,
   "metadata": {},
   "outputs": [
    {
     "name": "stdout",
     "output_type": "stream",
     "text": [
      "conversation_id: b19964d5-e9ea-4231-a147-17bb96ddcfa8\n",
      "\u001b[35m--------------------\u001b[0m\n",
      "A payment reversal, also known as a chargeback, occurs when funds from a transaction are returned to the payer's account. Payment reversals can happen for several reasons, including disputes, errors, fraudulent transactions, or unauthorized payments. Here are a few common types of payment reversals:\n",
      "\n",
      "1. **Chargebacks:** When a cardholder disputes a transaction, the bank can reverse the transaction, and the funds will be returned to the cardholder's account.\n",
      "2. **Refunds:** When a merchant initiates a refund, the funds will be returned to the payer's account.\n",
      "3. **Authorization Reversals:** If a payment was authorized but not settled, the authorization can be reversed, and the hold on the funds will be released.\n",
      "\n",
      "### How to Avoid Payment Reversals\n",
      "\n",
      "1. **Clear Communication:** Ensure that your product descriptions and terms of service are clear and accurate to avoid misunderstandings.\n",
      "2. **Customer Service:** Provide excellent customer service to address any issues or concerns promptly.\n",
      "3. **Transaction Verification:** Use verification tools to ensure the legitimacy of transactions.\n",
      "4. **Documentation:** Keep detailed records of all transactions, including receipts, emails, and shipping information, to use as evidence if needed.\n",
      "5. **Fraud Prevention Tools:** Implement fraud detection tools to identify and prevent fraudulent transactions.\n",
      "6. **Refund Policy:** Have a clear and fair refund policy that customers can easily understand.\n",
      "7. **Monitor Transactions:** Regularly monitor your transactions for any suspicious activity.\n"
     ]
    }
   ],
   "source": [
    "conversation_id4 = str(uuid.uuid4())\n",
    "user_query = \"What are payment reversals and how to avoid them\"\n",
    "await get_answer(conversation_id4, user_query)"
   ]
  },
  {
   "cell_type": "code",
   "execution_count": 13,
   "metadata": {},
   "outputs": [
    {
     "name": "stdout",
     "output_type": "stream",
     "text": [
      "conversation_id: d46ad814-c74e-41d1-a2d3-a0cb125aea46\n",
      "\u001b[35m--------------------\u001b[0m\n",
      "Here are the transaction details for your account number A1234567890:\n",
      "\n",
      "- **Transaction ID:** 9HX25435AB0123456\n",
      "- **Status:** Completed\n",
      "- **Amount:** 75.00 USD\n",
      "- **Transaction Fee:** 2.50 USD\n",
      "- **Payer:** John Doe (buyer@example.com)\n",
      "- **Payee:** Alice's Art Supplies (seller@example.com)\n",
      "- **Payment Method:** Transify\n",
      "- **Created At:** 2024-09-29T12:45:30Z\n",
      "- **Updated At:** 2024-09-29T12:46:45Z\n",
      "\n",
      "**Transaction Details:**\n",
      "- **Items Purchased:**\n",
      "  - Watercolor Paint Set (1) priced at 50.00 USD\n",
      "  - Brush Set (1) priced at 25.00 USD\n",
      "- **Shipping Address:**\n",
      "  - John Doe\n",
      "  - 123 Main St, Anytown, CA, 90210, US\n",
      "- **Shipping Cost:** 5.00 USD\n"
     ]
    }
   ],
   "source": [
    "user_query = \"get my transaction details\"\n",
    "await get_answer(conversation_id1, user_query)"
   ]
  },
  {
   "cell_type": "code",
   "execution_count": 17,
   "metadata": {},
   "outputs": [
    {
     "name": "stdout",
     "output_type": "stream",
     "text": [
      "conversation_id: 86a6ad31-2935-4699-9596-65d46e100b0a\n",
      "\u001b[35m--------------------\u001b[0m\n",
      "Your transaction details are as follows:\n",
      "\n",
      "- **Transaction ID**: 9HX25435AB0123456\n",
      "- **Status**: Completed\n",
      "- **Amount**: $75.00 USD\n",
      "- **Transaction Fee**: $2.50 USD\n",
      "- **Payer ID**: A1234567890\n",
      "- **Payer Email**: buyer@example.com\n",
      "- **Payer Name**: John Doe\n",
      "- **Payee**: Alice's Art Supplies\n",
      "- **Payment Method**: Transify\n",
      "- **Create Time**: 2024-09-29T12:45:30Z\n",
      "- **Update Time**: 2024-09-29T12:46:45Z\n",
      "\n",
      "**Transaction Items**:\n",
      "1. Item: Watercolor Paint Set, Quantity: 1, Price: $50.00 USD\n",
      "2. Item: Brush Set, Quantity: 1, Price: $25.00 USD\n",
      "\n",
      "**Shipping Address**:\n",
      "- **Recipient**: John Doe\n",
      "- 123 Main St\n",
      "- Anytown, CA 90210 US\n",
      "\n",
      "**Shipping Cost**: $5.00 USD\n",
      "\n",
      "For more details, you can check [here](https://api.transify.com/v1/payments/transaction/9HX25435AB0123456).\n"
     ]
    }
   ],
   "source": [
    "conversation_id5 = str(uuid.uuid4())\n",
    "user_query = \"get my transaction details my account number is A1234567890\"\n",
    "await get_answer(conversation_id5, user_query)"
   ]
  }
 ],
 "metadata": {
  "kernelspec": {
   "display_name": "autogenv0.4",
   "language": "python",
   "name": "python3"
  },
  "language_info": {
   "codemirror_mode": {
    "name": "ipython",
    "version": 3
   },
   "file_extension": ".py",
   "mimetype": "text/x-python",
   "name": "python",
   "nbconvert_exporter": "python",
   "pygments_lexer": "ipython3",
   "version": "3.11.10"
  }
 },
 "nbformat": 4,
 "nbformat_minor": 2
}
