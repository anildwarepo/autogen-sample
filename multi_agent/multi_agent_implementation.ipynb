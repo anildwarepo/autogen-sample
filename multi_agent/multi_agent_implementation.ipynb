{
 "cells": [
  {
   "cell_type": "code",
   "execution_count": 1,
   "metadata": {},
   "outputs": [
    {
     "name": "stdout",
     "output_type": "stream",
     "text": [
      "c:\\source\\repos\\autogen_v0.4 demo\\multi_agent\n"
     ]
    }
   ],
   "source": [
    "import sys\n",
    "import os\n",
    "\n",
    "# Get the current working directory (where the notebook is running)\n",
    "notebook_dir = os.getcwd()\n",
    "\n",
    "# Add the parent directory to the system path\n",
    "parent_dir = os.path.abspath(os.path.join(notebook_dir, '.'))\n",
    "sys.path.append(parent_dir)\n",
    "print(parent_dir)"
   ]
  },
  {
   "cell_type": "code",
   "execution_count": 2,
   "metadata": {},
   "outputs": [
    {
     "name": "stdout",
     "output_type": "stream",
     "text": [
      "c:\\source\\repos\\autogen_v0.4 demo\n"
     ]
    }
   ],
   "source": [
    "from multi_agent_implementation import *\n",
    "runtime = SingleThreadedAgentRuntime()\n",
    "await register_agents(runtime)\n",
    "runtime.start()"
   ]
  },
  {
   "cell_type": "code",
   "execution_count": 15,
   "metadata": {},
   "outputs": [],
   "source": [
    "async def get_answer(conversation_id, user_query):\n",
    "\n",
    "    await runtime.publish_message(GroupChatMessage(body=UserMessage(content=user_query, source=\"user\"), \n",
    "                                                conversation_id=conversation_id), DefaultTopicId(type=\"group_chat_any_topic\", source=conversation_id)) \n",
    "\n",
    "    group_chat_result = \"\"\n",
    "    try:\n",
    "        # Wait for a message in the queue, or you can use a timeout if needed\n",
    "        #group_chat_result = (await queue.get()).body.content\n",
    "        # clear queue \n",
    "        async with condition:\n",
    "            while conversation_id not in llm_results_dict:\n",
    "                await condition.wait()\n",
    "\n",
    "            \n",
    "            group_chat_result = llm_results_dict[conversation_id].body.content\n",
    "            del llm_results_dict[conversation_id]\n",
    "            print(f\"conversation_id: {conversation_id}\")\n",
    "            print(\"\\033[35m\" + \"-\" * 20 + \"\\033[0m\")\n",
    "    except Exception as e:\n",
    "        # Handle any exception that may occur during the wait for the response\n",
    "        print(f\"Error retrieving message from queue: {e}\")\n",
    "        group_chat_result = \"An error occurred while waiting for the response.\"\n",
    "\n",
    "    print(group_chat_result)"
   ]
  },
  {
   "cell_type": "code",
   "execution_count": 16,
   "metadata": {},
   "outputs": [
    {
     "name": "stdout",
     "output_type": "stream",
     "text": [
      "conversation_id: 73cdd176-2942-4499-b9f2-6f871f42a63f\n",
      "\u001b[35m--------------------\u001b[0m\n",
      "Thank you for your inquiry. To better assist you with retrieving your credit card balance, I'll need some additional information. Could you please provide me with the following details?\n",
      "\n",
      "1. Your PayPal account's registered email address.\n",
      "2. The last four digits of the credit card for which you need the balance.\n",
      "\n",
      "Once I have this information, I can assist you further.\n"
     ]
    }
   ],
   "source": [
    "conversation_id1 = str(uuid.uuid4())\n",
    "user_query = \"I want to know my credit card balance.\"\n",
    "await get_answer(conversation_id1, user_query)"
   ]
  },
  {
   "cell_type": "code",
   "execution_count": 17,
   "metadata": {},
   "outputs": [
    {
     "name": "stdout",
     "output_type": "stream",
     "text": [
      "conversation_id: 73cdd176-2942-4499-b9f2-6f871f42a63f\n",
      "\u001b[35m--------------------\u001b[0m\n",
      "Your current credit card balance is $150.00. If you have any other questions or need further assistance, feel free to let us know.\n"
     ]
    }
   ],
   "source": [
    "user_query = \"My account number is A1234567890.\"\n",
    "await get_answer(conversation_id1, user_query)"
   ]
  },
  {
   "cell_type": "code",
   "execution_count": 18,
   "metadata": {},
   "outputs": [
    {
     "name": "stdout",
     "output_type": "stream",
     "text": [
      "conversation_id: 73cdd176-2942-4499-b9f2-6f871f42a63f\n",
      "\u001b[35m--------------------\u001b[0m\n",
      "To provide you with information about your overdraft limit, could you please confirm the type of account or card you are inquiring about (credit card or bank account)?\n"
     ]
    }
   ],
   "source": [
    "user_query = \"what is my over draft limit?\"\n",
    "await get_answer(conversation_id1, user_query)"
   ]
  },
  {
   "cell_type": "code",
   "execution_count": 7,
   "metadata": {},
   "outputs": [
    {
     "name": "stdout",
     "output_type": "stream",
     "text": [
      "conversation_id: b9bf697c-5fd0-4aa1-846d-f5f37441c369\n",
      "\u001b[35m--------------------\u001b[0m\n",
      "To provide you an accurate response, could you please specify if you are referring to the maximum limit for a single transaction or if you need details about limits over a specific period (such as daily, weekly, or monthly limits)?\n"
     ]
    }
   ],
   "source": [
    "user_query = \"what is the maximum amount I can transact on my account number?\"\n",
    "await get_answer(conversation_id1, user_query)"
   ]
  },
  {
   "cell_type": "code",
   "execution_count": 19,
   "metadata": {},
   "outputs": [
    {
     "name": "stdout",
     "output_type": "stream",
     "text": [
      "conversation_id: 825293d4-bae3-4c21-90ab-82894ef29cb3\n",
      "\u001b[35m--------------------\u001b[0m\n",
      "Your current balances for the account XYZ7890123456 are:\n",
      "- 300 EUR\n",
      "- 100 USD\n",
      "\n",
      "If you need further assistance, please let us know!\n"
     ]
    }
   ],
   "source": [
    "conversation_id2 = str(uuid.uuid4())\n",
    "user_query = \"I want to know my credit card balance. My account number is XYZ7890123456.\"\n",
    "await get_answer(conversation_id2, user_query)"
   ]
  },
  {
   "cell_type": "code",
   "execution_count": 20,
   "metadata": {},
   "outputs": [
    {
     "name": "stdout",
     "output_type": "stream",
     "text": [
      "conversation_id: 47e4d903-c81a-4fcc-8735-c0b806049955\n",
      "\u001b[35m--------------------\u001b[0m\n",
      "I can see your question is not related to PayPal services. If you have any questions or need assistance regarding your PayPal account or transactions, please let me know, and I'd be happy to help!\n"
     ]
    }
   ],
   "source": [
    "conversation_id3 = str(uuid.uuid4())\n",
    "user_query = \"Plan a 3 day road trip to zion national park\"\n",
    "await get_answer(conversation_id3, user_query)"
   ]
  },
  {
   "cell_type": "code",
   "execution_count": 21,
   "metadata": {},
   "outputs": [
    {
     "name": "stdout",
     "output_type": "stream",
     "text": [
      "conversation_id: 57313c07-bdd7-4819-8430-8f30dcb4a489\n",
      "\u001b[35m--------------------\u001b[0m\n",
      "Your question about payment reversals has been answered comprehensively. Here is the complete answer:\n",
      "\n",
      "### What are Payment Reversals?\n",
      "A payment reversal occurs when a transaction is undone, and the funds are returned to the sender's account. This can happen due to various reasons, such as:\n",
      "1. **Chargebacks**: Initiated by the cardholder’s bank due to a dispute.\n",
      "2. **Refunds**: Initiated by the merchant to return funds to the buyer.\n",
      "3. **Bank Reversals**: Due to issues such as insufficient funds, incorrect account details, or fraudulent activities.\n",
      "\n",
      "### How to Avoid Payment Reversals:\n",
      "1. **Provide Accurate Descriptions**: Clearly describe your products or services.\n",
      "2. **Offer Good Customer Service**: Respond promptly to customer inquiries and issues.\n",
      "3. **Ensure Quality Control**: Ensure products are in good condition before shipping.\n",
      "4. **Avoid Misleading Advertising**: Be honest in your promotions.\n",
      "5. **Use Secure Payment Methods**: Verify customer information and utilize secure payment gateways.\n",
      "6. **Clearly Define Policies**: Define return, refund, and cancellation policies clearly.\n",
      "7. **Timely Shipping**: Ship products on time and provide tracking information.\n",
      "\n",
      "If you have any more questions or need further assistance, please feel free to ask!\n"
     ]
    }
   ],
   "source": [
    "conversation_id4 = str(uuid.uuid4())\n",
    "user_query = \"What are payment reversals and how to avoid them\"\n",
    "await get_answer(conversation_id4, user_query)"
   ]
  },
  {
   "cell_type": "code",
   "execution_count": 22,
   "metadata": {},
   "outputs": [
    {
     "name": "stdout",
     "output_type": "stream",
     "text": [
      "conversation_id: 73cdd176-2942-4499-b9f2-6f871f42a63f\n",
      "\u001b[35m--------------------\u001b[0m\n",
      "Here are the details of your recent transaction:\n",
      "\n",
      "- **Transaction ID:** 9HX25435AB0123456\n",
      "- **Status:** Completed\n",
      "- **Amount:** $75.00 USD\n",
      "- **Transaction Fee:** $2.50 USD\n",
      "- **Payer Information:**\n",
      "  - Payer ID: A1234567890\n",
      "  - Email: buyer@example.com\n",
      "  - Name: John Doe\n",
      "  - Country Code: US\n",
      "- **Payee Information:**\n",
      "  - Merchant ID: MERCHANT987654321\n",
      "  - Email: seller@example.com\n",
      "  - Name: Alice's Art Supplies\n",
      "- **Payment Method:** PayPal\n",
      "- **Create Time:** 2024-09-29T12:45:30Z\n",
      "- **Update Time:** 2024-09-29T12:46:45Z\n",
      "- **Transaction Details:**\n",
      "  - **Items:**\n",
      "    - Watercolor Paint Set: $50.00 USD (Quantity: 1)\n",
      "    - Brush Set: $25.00 USD (Quantity: 1)\n",
      "  - **Shipping Address:**\n",
      "    - Recipient Name: John Doe\n",
      "    - Address: 123 Main St, Anytown, CA, 90210, US\n",
      "  - **Shipping Cost:** $5.00 USD\n",
      "\n",
      "For more details, you can visit [Transaction Details](https://api.paypal.com/v1/payments/transaction/9HX25435AB0123456).\n",
      "\n",
      "Would you like any further assistance with this transaction or have any additional questions?\n"
     ]
    }
   ],
   "source": [
    "user_query = \"get my transaction details\"\n",
    "await get_answer(conversation_id1, user_query)"
   ]
  },
  {
   "cell_type": "code",
   "execution_count": 23,
   "metadata": {},
   "outputs": [
    {
     "name": "stdout",
     "output_type": "stream",
     "text": [
      "conversation_id: 82dae9c0-faca-4611-9493-a058e6cee530\n",
      "\u001b[35m--------------------\u001b[0m\n",
      "Here are the transaction details for your account number A1234567890:\n",
      "\n",
      "- **Transaction ID:** 9HX25435AB0123456\n",
      "- **Status:** Completed\n",
      "- **Total Amount:** $75.00 USD\n",
      "- **Transaction Fee:** $2.50 USD\n",
      "\n",
      "### Payer Information:\n",
      "- **Payer ID:** A1234567890\n",
      "- **Email:** buyer@example.com\n",
      "- **Name:** John Doe\n",
      "- **Country Code:** US\n",
      "\n",
      "### Payee Information:\n",
      "- **Merchant ID:** MERCHANT987654321\n",
      "- **Email:** seller@example.com\n",
      "- **Name:** Alice's Art Supplies\n",
      "\n",
      "### Payment Method:\n",
      "- **Method:** PayPal\n",
      "\n",
      "### Transaction Details:\n",
      "- **Create Time:** 2024-09-29T12:45:30Z\n",
      "- **Update Time:** 2024-09-29T12:46:45Z\n",
      "\n",
      "### Items Purchased:\n",
      "1. **Item:** Watercolor Paint Set\n",
      "   - **Quantity:** 1\n",
      "   - **Price:** $50.00 USD\n",
      "\n",
      "2. **Item:** Brush Set\n",
      "   - **Quantity:** 1\n",
      "   - **Price:** $25.00 USD\n",
      "\n",
      "### Shipping Details:\n",
      "- **Recipient Name:** John Doe\n",
      "- **Address:** 123 Main St, Anytown, CA 90210, US\n",
      "- **Shipping Cost:** $5.00 USD\n",
      "\n",
      "If you need further assistance, please let us know!\n"
     ]
    }
   ],
   "source": [
    "conversation_id5 = str(uuid.uuid4())\n",
    "user_query = \"get my transaction details my account number is A1234567890\"\n",
    "await get_answer(conversation_id5, user_query)"
   ]
  }
 ],
 "metadata": {
  "kernelspec": {
   "display_name": "autogenv0.4",
   "language": "python",
   "name": "python3"
  },
  "language_info": {
   "codemirror_mode": {
    "name": "ipython",
    "version": 3
   },
   "file_extension": ".py",
   "mimetype": "text/x-python",
   "name": "python",
   "nbconvert_exporter": "python",
   "pygments_lexer": "ipython3",
   "version": "3.11.10"
  }
 },
 "nbformat": 4,
 "nbformat_minor": 2
}
